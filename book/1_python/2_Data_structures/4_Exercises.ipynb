{
 "cells": [
  {
   "cell_type": "markdown",
   "metadata": {},
   "source": [
    "# 2.4 Exercises"
   ]
  },
  {
   "cell_type": "markdown",
   "metadata": {},
   "source": [
    "## Exercise 1: Variables\n",
    "\n",
    "1. Assign the value `42` to a variable named `my_var` and print it.\n",
    "2. Assign the string `\"Hello, World!\"` to a variable named `greeting` and print it.\n",
    "3. Create two variables, `a` and `b`, assign them values `10` and `20`, and save their sum to a variable called `c`. Print their sum.\n",
    "4. Write a comment for (3) explaining what your \"algorithm\" does."
   ]
  },
  {
   "cell_type": "code",
   "execution_count": 8,
   "metadata": {},
   "outputs": [],
   "source": [
    "# Exercise 1"
   ]
  },
  {
   "cell_type": "markdown",
   "metadata": {},
   "source": [
    "## Exercise 2: Types\n",
    "\n",
    "The Python built-in `type()` will return the type of the variable given to it.\n",
    "\n",
    "1. Create a variable `x` and assign it a float value. Check the type of `x` using the `type()` function.\n",
    "2. Create a variable `y` and assign it a string value. Print the type of `y` and its length using the `len()` function.\n",
    "3. Verify that a multiplication of two integers returns another int, while a division returns a float.\n",
    "4. Why do do you think that Python changes the result of a division into type float?"
   ]
  },
  {
   "cell_type": "code",
   "execution_count": 9,
   "metadata": {},
   "outputs": [],
   "source": [
    "# Exercise 2"
   ]
  },
  {
   "cell_type": "markdown",
   "metadata": {},
   "source": [
    "## Exercise 3: Strings\n",
    "\n",
    "You previously learned about functions like `.lower()` or `.replace()` which allow you to modify strings. But what about counting? Lets for example take the word *Llanfairpwllgwyngyllgogerychwyrndrobwllllantysiliogogogoch*, which is a town in Wales. Can you find a function that lets you count the number of times the combination of two subsequent L's (e.g. \"ll\") appear in that word? See if you can guess how the function could be called and used. Use the internet for help if necessary.\n",
    "\n",
    "1. Count the number of time two subsequent L's occur in the town name.\n",
    "2. Save the result to a new variable and print its value.\n",
    "3. The correct answer should be 5. If your result is different, check the string to see where you might have missed something."
   ]
  },
  {
   "cell_type": "code",
   "execution_count": 10,
   "metadata": {},
   "outputs": [],
   "source": [
    "town = \"Llanfairpwllgwyngyllgogerychwyrndrobwllllantysiliogogogoch\""
   ]
  },
  {
   "cell_type": "markdown",
   "metadata": {},
   "source": [
    "## Exercise 4: Booleans\n",
    "\n",
    "Some integer values are equivalent to Python Boolean values. \n",
    "1. Use the equality (==) operator to find the integer which is equivalent to `True`.\n",
    "2. Use the equality (==) operator to find the integer which is equivalent to `False`."
   ]
  },
  {
   "cell_type": "code",
   "execution_count": 11,
   "metadata": {},
   "outputs": [],
   "source": [
    "# Exercise 4"
   ]
  },
  {
   "cell_type": "markdown",
   "metadata": {},
   "source": [
    "## Exercise 5: Lists\n",
    "\n",
    "\n",
    "1. Create a list named fruits containing `\"apple\"`, `\"banana\"`, and `\"cherry\"`. Add `\"orange\"` to the list and print the result.\n",
    "2. Remove `\"banana\"` from the fruits list and print the updated list.\n"
   ]
  },
  {
   "cell_type": "code",
   "execution_count": null,
   "metadata": {},
   "outputs": [],
   "source": [
    "# Execise 5"
   ]
  },
  {
   "cell_type": "markdown",
   "metadata": {},
   "source": [
    "## Exercise 6: More lists\n",
    "\n",
    "You previously learned about the `.append()` function for adding a new item to the end of a list. You can also add two lists together by using the plus (+) operator. Given the lists provided below, can you:\n",
    "\n",
    "1. Create a new list which combines list1 and list2?\n",
    "2. Create a new list that has the items [6, 5, 1, 2, 3] by only using indexing operations and functions associated with lists?\n",
    "\n",
    "*Hint: Lists come with more functions like `.extend()` or `.reverse()`. You can find a full list in the [Python documentation](https://docs.python.org/3/tutorial/datastructures.html#more-on-lists).*\n"
   ]
  },
  {
   "cell_type": "code",
   "execution_count": 13,
   "metadata": {},
   "outputs": [],
   "source": [
    "list1 = [1, 2, 3]\n",
    "list2 = [4, 5, 6]"
   ]
  },
  {
   "cell_type": "markdown",
   "metadata": {},
   "source": [
    "## Exercise 7: Indexing\n",
    "\n",
    "You previousy learned how to access specific elements of a list by enclosing an index in square brackets (`first_item = my_list[0]`). A useful feature in Python is that you can also start indexing from the back of a list by using negative numbers (`last_item = my_list[-1]`). Experiment with this for a bit and then answer/implement the following questions:\n",
    "\n",
    "1. What is the negative number index for the last item in the list?\n",
    "2. What is the negative number index for the first item in the list?\n",
    "3. Can you write code that would use a negative number to index the first item in the list,\n",
    "without advance knowledge of its length? Hint: A function introduced in the *Strings* section of the might be useful here.\n"
   ]
  },
  {
   "cell_type": "code",
   "execution_count": 14,
   "metadata": {},
   "outputs": [],
   "source": [
    "my_list = [\"Hello\", 1, 3.14, True, 5, 1234, \"Goodbye\"]"
   ]
  },
  {
   "cell_type": "markdown",
   "metadata": {},
   "source": [
    "## Exercise 8: Dictionaries\n",
    "\n",
    "Below you can see a dictionary containing the price of different fruits.\n",
    " \n",
    "1. Add another fruit to the dictionary. This fruit should have several different prices associated with it, organized as a list\n",
    "2. Access the second price in this list in a single line of code and save it to a variable called `second_price`\n",
    "3. Print the newly added fruit and its the second price like so: \"The second price of <your_fruit> is <second_price> €\".\n",
    "\n",
    "*Hint: You can use the previously introduced f-strings for printing*"
   ]
  },
  {
   "cell_type": "code",
   "execution_count": 15,
   "metadata": {},
   "outputs": [],
   "source": [
    "fruit_prices = {\n",
    "    \"apple\": 0.5,\n",
    "    \"banana\": 0.2,\n",
    "}"
   ]
  },
  {
   "cell_type": "markdown",
   "metadata": {},
   "source": [
    "## Voluntary Exercise 1: Lists and dictionaries combined\n",
    "\n",
    "Create a *list of dictionaries* where each dictionary represents a student. The keys should be `\"name\"`, `\"age\"`, and `\"grades\"` (a list of three integers). Then write code that prints the name of the student with the highest average grade."
   ]
  },
  {
   "cell_type": "code",
   "execution_count": 16,
   "metadata": {},
   "outputs": [],
   "source": [
    "# Voluntary exercise 1"
   ]
  },
  {
   "cell_type": "markdown",
   "metadata": {},
   "source": [
    "## Voluntary Exercise 2: Swapping values\n",
    "\n",
    "Can you swap the values of `a` and `b` without creating a temporary (thrird) variable?"
   ]
  },
  {
   "cell_type": "code",
   "execution_count": 17,
   "metadata": {},
   "outputs": [],
   "source": [
    "a = 5\n",
    "b = 10"
   ]
  }
 ],
 "metadata": {
  "kernelspec": {
   "display_name": "dfc-multiverse",
   "language": "python",
   "name": "python3"
  },
  "language_info": {
   "codemirror_mode": {
    "name": "ipython",
    "version": 3
   },
   "file_extension": ".py",
   "mimetype": "text/x-python",
   "name": "python",
   "nbconvert_exporter": "python",
   "pygments_lexer": "ipython3",
   "version": "3.10.0"
  },
  "widgets": {
   "application/vnd.jupyter.widget-state+json": {
    "state": {},
    "version_major": 2,
    "version_minor": 0
   }
  }
 },
 "nbformat": 4,
 "nbformat_minor": 4
}
