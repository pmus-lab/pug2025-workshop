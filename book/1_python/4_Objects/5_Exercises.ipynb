{
 "cells": [
  {
   "cell_type": "markdown",
   "metadata": {},
   "source": [
    "# 4.5 Exercises"
   ]
  },
  {
   "cell_type": "markdown",
   "metadata": {},
   "source": [
    "## Exercise 1: Dot notation and basic methods\n",
    "\n",
    "Use at least two methods (e.g., `.append()`, `.sort()`) on the provided list. Print the list before and after using the methods."
   ]
  },
  {
   "cell_type": "code",
   "execution_count": null,
   "metadata": {},
   "outputs": [],
   "source": [
    "my_list = [3,1,4,6,1,7]"
   ]
  },
  {
   "cell_type": "markdown",
   "metadata": {},
   "source": [
    "## Exercise 2: Everything is an object\n",
    "\n",
    "All data types and structures (like integers or lists) in Python are objects.\n",
    "\n",
    "- Print all methods associated with the previously created list.\n",
    "- Are the methods different from the methods associated with dictionaries?"
   ]
  },
  {
   "cell_type": "code",
   "execution_count": 2,
   "metadata": {},
   "outputs": [],
   "source": [
    "# Exercise 2"
   ]
  },
  {
   "cell_type": "markdown",
   "metadata": {},
   "source": [
    "## Exercise 3: Modules and imports\n",
    "\n",
    "Python has a small built-in namespace, which means there is only a limited amount of functions available by default. To access a wide range of functions and tools, we thus need to import additional modules and libraries. Please do the following:\n",
    "\n",
    "1. Importing Entire Modules:\n",
    "    - Import the entire `math` module.\n",
    "    - Calculate and print the natural logarithm of 20.\n",
    "\n",
    "2. Importing Specific Functions:\n",
    "    - Import only the `pow` function from the `math` module.\n",
    "    - Calculate and print 2 raised to the power of 3 ($2^3$).\n",
    "\n",
    "3. Using Aliases for Modules:\n",
    "    - Import the `numpy` module using the alias `np`.\n",
    "    - Create a numpy array with the values [1, 4, 9, 16, 25].\n",
    "    - Calculate and print the square root of each element in the array using the numpy module.\n",
    "\n",
    "*Hint:* The numpy module is the fundamental Python package for scientific computing in Python. It uses arrays to store data. Please refer to the [documentation](https://numpy.org/doc/stable/reference/generated/numpy.array.html) for the third question. Do not worry about the details, we will discuss this package in more detail next week. "
   ]
  },
  {
   "cell_type": "code",
   "execution_count": 3,
   "metadata": {},
   "outputs": [],
   "source": [
    "# Exercise 3"
   ]
  },
  {
   "cell_type": "markdown",
   "metadata": {},
   "source": [
    "## Exercise 4: Functions\n",
    "\n",
    "Write a function `classify_reaction_time(rt)` that classifies a given reaction time (in ms) of a psychological experiment and returns the result as a string:\n",
    "\n",
    "- Below 400 ms: \"Fast Response\"\n",
    "- Between 400 ms and 600 ms: \"Normal Response\"\n",
    "- Above 600 ms: \"Slow Response\"\n",
    "- Use flow control statements (if, elif, else) to handle the classification.\n",
    "\n",
    "Test the function by passing three different response times (fast, normal, slow) to it and printing the result"
   ]
  },
  {
   "cell_type": "code",
   "execution_count": 4,
   "metadata": {},
   "outputs": [],
   "source": [
    "# Exercise 4"
   ]
  },
  {
   "cell_type": "markdown",
   "metadata": {},
   "source": [
    "## Exercise 5: More functions\n",
    "\n",
    "1. Create a function that takes in the radius of a circle and returns its area.\n",
    "2. Run the function by providing a radius and print the resulting area."
   ]
  },
  {
   "cell_type": "code",
   "execution_count": 5,
   "metadata": {},
   "outputs": [],
   "source": [
    "# Exercise 5"
   ]
  },
  {
   "cell_type": "markdown",
   "metadata": {},
   "source": [
    "## Exercise 6: Classes\n",
    "\n",
    "Functions are nice if you need to perform a specific, isolated computation. However, sometimes it is uesful to create encapsulate objects that have different properties (attributes) and actions (methods). For example, look at the provided code snippet. \n",
    "\n",
    "An instance of `Circle` is created by providing a radius: `my_circle = Circle(radius=5)`. This radius is then assigned to the `self.radius` attribute of the class. The only method in the class is the `calculate_area()` method that (if called) calculates the area of the circle, assigns it to a newly created `self.area` attribute.\n",
    "\n",
    "Please do the following:\n",
    "\n",
    "1. In `Circle`, implement a second method that calculates the circumference of the circle. Calculate and ürint the circumference.\n",
    "2. Implement a new class called `Square` that has a single attribute `.side`, and two methods for area and circumference. Calculate and print both."
   ]
  },
  {
   "cell_type": "code",
   "execution_count": 6,
   "metadata": {},
   "outputs": [
    {
     "name": "stdout",
     "output_type": "stream",
     "text": [
      "The area of the circle is: : 78.53981633974483\n"
     ]
    }
   ],
   "source": [
    "from math import pi\n",
    "\n",
    "class Circle:\n",
    "  def __init__(self, radius):\n",
    "    self.radius = radius\n",
    "\n",
    "  def calculate_area(self):\n",
    "    self.area = pi * self.radius**2\n",
    "\n",
    "# Create an instance of the Circle class and calculate the area and circumference\n",
    "my_circle = Circle(radius=5)\n",
    "my_circle.calculate_area()\n",
    "\n",
    "print(f\"The area of the circle is: : {my_circle.area}\")"
   ]
  },
  {
   "cell_type": "markdown",
   "metadata": {},
   "source": [
    "## Voluntary Exercise 1: Nested functions\n",
    "\n",
    "In this exercise, you will create functions that simulate a participant's decision-making process during a psychological experiment. The goal is to reinforce defining and using functions, handling parameters, and using control flow.\n",
    "\n",
    "1. Creating a Decision Function\n",
    "\n",
    "    - Write a function `make_decision(response_time, threshold)` that takes two arguments:\n",
    "        - `response_time`: The time (in milliseconds) it takes for the participant to make a decision (an integer).\n",
    "        - `threshold`: The decision threshold (an integer).\n",
    "    - The function should:\n",
    "        - Print \"Decision Made!\" if `response_time` is less than or equal to the threshold.\n",
    "        - Print \"Too Slow! No Decision.\" if `response_time` is greater than the threshold.\n",
    "\n",
    "2. Simulating a Reaction Time Task\n",
    "\n",
    "    - Create a function `simulate_reaction_task(mean_rt, variability)` that simulates a participant's response time:\n",
    "        - `mean_rt`: The average response time (an integer).\n",
    "        - `variability`: The maximum amount by which the response time can vary (an integer).\n",
    "    - The function should:\n",
    "        - Use a random number generator (from the `random` module) to create a response time by adding a random value (between `-variability` and `+variability`) to `mean_rt`.\n",
    "        - Return the generated `response_time`.\n",
    "\n",
    "3. Running the Simulation\n",
    "\n",
    "    - Create a main function `run_experiment()` that:\n",
    "        - Sets a `mean_rt` of 500 ms and a variability of 100 ms.\n",
    "        - Sets a `threshold` of 550 ms.\n",
    "        - Calls `simulate_reaction_task()` three times to generate three different response times.\n",
    "        - Calls `make_decision()` for each response time to determine if a decision was made.\n",
    "        - Prints the response times and the decision outcomes."
   ]
  },
  {
   "cell_type": "code",
   "execution_count": 7,
   "metadata": {},
   "outputs": [],
   "source": [
    "# Voluntary Exercise 1"
   ]
  },
  {
   "cell_type": "markdown",
   "metadata": {},
   "source": [
    "## Voluntrary Exercise 2: Classes and inheritance\n",
    "\n",
    "In this exercise, you will create a class that simulates a simple neuron. The neuron will allow energy deposits (representing excitatory input), energy reductions (representing inhibitory input), and checking its activation level.\n",
    "\n",
    "1. Create the class\n",
    "    - Write a class `Neuron` with the following attributes:\n",
    "        - `neuron_name`: The name of the neuron (e.g., \"Neuron A\").\n",
    "        - `activation_level`: The current activation level (default is 0).\n",
    "    - Implement the following methods:\n",
    "        - `excite(amount)`: Adds amount to the activation_level (representing excitatory input).\n",
    "        - `inhibit(amount)`: Subtracts amount from the activation_level (representing inhibitory input). If the activation level becomes negative, set it to 0 and print a message indicating that the neuron has reached its inhibitory limit.\n",
    "        - `check_activation()`: Prints the current activation level.\n",
    "\n",
    "2. Test the class\n",
    "    - Create an instance of `Neuron` for a neuron named \"Neuron A\" with an initial activation level of 20. Apply an excitatory input of 30, then apply an inhibitory input of 70. Print the final activation level."
   ]
  },
  {
   "cell_type": "code",
   "execution_count": 8,
   "metadata": {},
   "outputs": [],
   "source": [
    "# Voluntary Exercise 2"
   ]
  },
  {
   "cell_type": "markdown",
   "metadata": {},
   "source": [
    "In object oriented programming, classes can inherit attributes or methods from an existing class (base or parent class). This allows the subclass to reuse and extend the functionality of the parent class, adding its own specialized behavior. Have a look at an [online tutorial](https://www.w3schools.com/python/python_inheritance.asp) to figure out how this can be implemented.\n",
    "\n",
    "1. Create a subclass `InhibitoryNeuron` that inherits from Neuron.\n",
    "    - Override the `inhibit(amount)` method such that it adds an additional 10% inhibition (e.g., if 50 is passed as the amount, it should inhibit by 55).\n",
    "\n",
    "2. Test the `InhibitoryNeuron` class by creating an instance, applying excitation and inhibition, and checking the activation level."
   ]
  },
  {
   "cell_type": "code",
   "execution_count": 9,
   "metadata": {},
   "outputs": [],
   "source": [
    "# Voluntary Exercise 2"
   ]
  },
  {
   "cell_type": "markdown",
   "metadata": {},
   "source": [
    "## Voluntary Exercise 3: List comprehensions\n",
    "\n",
    "You learned about nested statements in previous sessions. Please carefully read the following code. What is its purpose?"
   ]
  },
  {
   "cell_type": "code",
   "execution_count": 10,
   "metadata": {},
   "outputs": [
    {
     "name": "stdout",
     "output_type": "stream",
     "text": [
      "Only the string values: ['banana', 'apple', 'hello']\n"
     ]
    }
   ],
   "source": [
    "random_stuff = [1, \"banana\", \"apple\", 3.14, 7, \"hello\"]\n",
    "strings_only = [] # empty list for filtered vaues\n",
    "\n",
    "# Loop through the list\n",
    "for elem in random_stuff:\n",
    "    # if the current element is a string...\n",
    "    if isinstance(elem, str):\n",
    "        # ...then append the value to strings_only\n",
    "        strings_only.append(elem)\n",
    "\n",
    "print(f\"Only the string values: {strings_only}\")"
   ]
  },
  {
   "cell_type": "markdown",
   "metadata": {},
   "source": [
    "Python offers a feature called *list comprehension*. This allows you to write for-loops in a more compact way. List comprehensions are *syntactic sugar*, which means they do not add any additional features and are just a way of making the code a bit shorter (and maybe even nicer to read once you get used to them). Take a look at the following example which prints the elements of the `random_stuff` list:"
   ]
  },
  {
   "cell_type": "code",
   "execution_count": 11,
   "metadata": {},
   "outputs": [
    {
     "name": "stdout",
     "output_type": "stream",
     "text": [
      "1\n",
      "banana\n",
      "apple\n",
      "3.14\n",
      "7\n",
      "hello\n"
     ]
    }
   ],
   "source": [
    "p = [print(elem) for elem in random_stuff]"
   ]
  },
  {
   "cell_type": "markdown",
   "metadata": {},
   "source": [
    "Can you implement the previous code block that filters the strings from the list by using a single list comprehension?"
   ]
  },
  {
   "cell_type": "code",
   "execution_count": null,
   "metadata": {},
   "outputs": [],
   "source": [
    "# Voluntary Exercise 3"
   ]
  }
 ],
 "metadata": {
  "kernelspec": {
   "display_name": "psy111",
   "language": "python",
   "name": "python3"
  },
  "language_info": {
   "codemirror_mode": {
    "name": "ipython",
    "version": 3
   },
   "file_extension": ".py",
   "mimetype": "text/x-python",
   "name": "python",
   "nbconvert_exporter": "python",
   "pygments_lexer": "ipython3",
   "version": "3.13.0"
  }
 },
 "nbformat": 4,
 "nbformat_minor": 2
}
