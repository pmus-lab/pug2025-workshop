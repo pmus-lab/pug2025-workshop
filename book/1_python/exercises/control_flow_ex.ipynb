{
 "cells": [
  {
   "cell_type": "markdown",
   "metadata": {},
   "source": [
    "# 3.3 Exercises"
   ]
  },
  {
   "cell_type": "markdown",
   "metadata": {},
   "source": [
    "## Exercise 1: Conditionals\n",
    "\n",
    "\n",
    "Can you rewrite the code below by only using **one** *if*, **one** *elif*, and **one** `else` statement to improve readability?"
   ]
  },
  {
   "cell_type": "code",
   "execution_count": null,
   "metadata": {},
   "outputs": [],
   "source": [
    "points = 12\n",
    "\n",
    "if points > 15:\n",
    "    print(\"Points are more than 10.\")\n",
    "if points == 10:\n",
    "    print(\"Points are exactly 10.\")\n",
    "if points < 10:\n",
    "    print(\"Points are less than 10.\")\n",
    "if points > 10:\n",
    "    print(\"Points are more than 10.\")\n",
    "if points <= 5:\n",
    "    print(\"Points are less than 10.\")"
   ]
  },
  {
   "cell_type": "markdown",
   "metadata": {},
   "source": [
    "## Exercise 2: Loops\n",
    "\n",
    "You are provided with a list of integers called `numbers`. Your task is to:\n",
    "\n",
    "1. Write a for loop which calculate the sum of all items in the list. Print the result.\n",
    "2. Again count the sum of elements, but exclude the item at index 3.\n",
    "3. Write a for loop to count how many numbers in the list are even. Print the count.\n",
    "\n",
    "*Hints:*\n",
    "- *You might find using a counting variable useful for all three exercises.*\n",
    "- *You can use the `enumerate()` function and the `!=` operator if you work with indices in a loop.*\n",
    "- *The modulo `%` operator will give you the remainder of a division. So the expression `number % 2 == 0` will be `True` if number is even (there is no remainder), or else it will be `False` (there is a remainder).*"
   ]
  },
  {
   "cell_type": "code",
   "execution_count": null,
   "metadata": {},
   "outputs": [],
   "source": [
    "numbers = [10, 15, 8, 23, 42, 4, 16, 9, 7, 30]"
   ]
  },
  {
   "cell_type": "markdown",
   "metadata": {},
   "source": [
    "## Exercise 1: Reaction Time Data Analysis\n",
    "\n",
    "Given a list of reaction times (in milliseconds) from a cognitive task, calculate the average reaction time, and count how many trials had reaction times faster than a threshold (e.g. 300 ms)."
   ]
  },
  {
   "cell_type": "code",
   "execution_count": 8,
   "metadata": {},
   "outputs": [],
   "source": [
    "reaction_times = [250, 320, 300, 450, 280, 310, 290, 510, 305, 330]\n",
    "threshold = 300"
   ]
  },
  {
   "cell_type": "markdown",
   "metadata": {},
   "source": [
    "## Exercise 2: Counting Spikes in Neural Data\n",
    "\n",
    "Assume you have a list of voltage readings from a neuron over time. A spike occurs whenever the voltage is above a threshold (e.g., 50 mV). Write code to count the number of spikes."
   ]
  },
  {
   "cell_type": "code",
   "execution_count": 9,
   "metadata": {},
   "outputs": [],
   "source": [
    "voltage_readings = [45, 52, 49, 55, 60, 48, 47, 53, 49, 50, 65]\n",
    "threshold = 50"
   ]
  },
  {
   "cell_type": "markdown",
   "metadata": {},
   "source": [
    "## Exercise 3: Emotional Word Count\n",
    "\n",
    "You are provided with a list of words from a psychological text analysis of participants' speech. Count how many words are classified as \"positive\" or \"negative\" based on pre-defined lists.\n",
    "\n",
    "*Hint: you can use `in` to check if an item belongs to a list, e.g. `if item in list`...*"
   ]
  },
  {
   "cell_type": "code",
   "execution_count": 10,
   "metadata": {},
   "outputs": [],
   "source": [
    "words = [\"peaceful\", \"happy\", \"sad\", \"joy\", \"angry\", \"calm\", \"excited\", \"joyful\", \"miserable\"]\n",
    "positive_words = [\"happy\", \"thankful\", \"joy\", \"calm\", \"excited\", \"joyful\", \"peaceful\", \"content\"]\n",
    "negative_words = [\"sad\", \"depressed\", \"angry\", \"miserable\", \"anxious\"]"
   ]
  },
  {
   "cell_type": "markdown",
   "metadata": {},
   "source": [
    "## Exercise 4: Stimulus Response Check\n",
    "\n",
    "Suppose a participant’s responses to a series of stimuli are recorded as \"yes\" or \"no\". Write a loop to check if there are any cases where the participant said \"yes\" three times in a row. If so, print a message that they reached a \"high response\" period.\n",
    "\n",
    "*Hint: You can use `break` to exit the for loop if you found a high response period.*"
   ]
  },
  {
   "cell_type": "code",
   "execution_count": 11,
   "metadata": {},
   "outputs": [],
   "source": [
    "responses = [\"no\", \"yes\", \"yes\", \"yes\", \"no\", \"no\", \"yes\", \"no\"]"
   ]
  },
  {
   "cell_type": "markdown",
   "metadata": {},
   "source": [
    "## Exercise 5: Simulating a Stroop Task\n",
    "\n",
    "In a simplified Stroop task, participants must say the color of the text, not the word. You have a list of color-word pairs; print only the color for each item.\n",
    "\n",
    "*Hint: If you iterate over pairs of values, you need to make sure to then handle the values within the pair correcly (e.g. by putting them into individual variables with [tuple unpacking](https://www.w3schools.com/python/python_tuples_unpack.asp)).*"
   ]
  },
  {
   "cell_type": "code",
   "execution_count": 12,
   "metadata": {},
   "outputs": [],
   "source": [
    "color_word_pairs = [(\"red\", \"BLUE\"), (\"green\", \"RED\"), (\"blue\", \"GREEN\"), (\"yellow\", \"BLUE\")]"
   ]
  },
  {
   "cell_type": "markdown",
   "metadata": {},
   "source": [
    "## Exercise 6: Neuron Firing Rate Simulation\n",
    "\n",
    "Given a list of neuron firing intervals (in milliseconds) for a neuron over time, calculate the individual firing rates as well as the average firing rate. The firing rate of a neuron is the reciprocal of the firing interval in seconds (e.g. a firing interval of 100 ms would mean a firing ratr of $\\frac{1}{0.1s} = 10 Hz$)."
   ]
  },
  {
   "cell_type": "code",
   "execution_count": 13,
   "metadata": {},
   "outputs": [],
   "source": [
    "intervals = [100, 200, 150, 120, 180, 90]  # in ms"
   ]
  },
  {
   "cell_type": "markdown",
   "metadata": {},
   "source": [
    "## Voluntary Exercise 1: More loops\n",
    "\n",
    "Please use a loop to iterate through the list of numbers. For each number, determine if it is prime and print whether it is prime or not."
   ]
  },
  {
   "cell_type": "code",
   "execution_count": null,
   "metadata": {},
   "outputs": [],
   "source": [
    "numbers = [2, 3, 4, 5, 10, 11, 15, 17, 18, 23, 29, 30]"
   ]
  },
  {
   "cell_type": "markdown",
   "metadata": {},
   "source": [
    "## Voluntary Exercise 2: Experimental Data Normalization\n",
    "\n",
    "Given a list of participants’ scores on a memory test, normalize the scores to a range of 0 to 1 by dividing each score by the maximum score.\n",
    "\n",
    "*Hint: Create and fill a new list that contains the normalized scores.*"
   ]
  },
  {
   "cell_type": "code",
   "execution_count": 14,
   "metadata": {},
   "outputs": [],
   "source": [
    "scores = [45, 55, 80, 90, 60, 70]"
   ]
  },
  {
   "cell_type": "markdown",
   "metadata": {},
   "source": [
    "## Voluntary Exercise 3: Analyzing Sleep Patterns\n",
    "\n",
    "Each item in the sleep_stages list represents 15 minutes of sleep categorized into different stages: `\"Awake\"`, `\"Light Sleep\"`, `\"Deep Sleep\"`, and `\"REM\"`. The task is to analyze sleep patterns by calculating the total time spent in each stage, finding the longest continuous period of deep sleep, and determining if at least 20% of the sleep time was spent in REM.\n",
    "\n",
    "- Calculate the total time spent in each sleep stage.\n",
    "- Identify the longest continuous period spent in \"Deep Sleep.\"\n",
    "- Determine if the participant achieved at least 20% of the total sleep time in \"REM\" sleep.\n",
    "\n",
    "*Hint: You could, for example, create a dictionary to hold the counts of each state before calculating the total time spent in each state.*"
   ]
  },
  {
   "cell_type": "code",
   "execution_count": 16,
   "metadata": {},
   "outputs": [],
   "source": [
    "# Simulated sleep stages data for 8 hours (32 intervals of 15 minutes each)\n",
    "sleep_stages = [\n",
    "    \"Awake\", \"Light Sleep\", \"Light Sleep\", \"Deep Sleep\", \"Deep Sleep\", \"Deep Sleep\",\n",
    "    \"REM\", \"REM\", \"Light Sleep\", \"Light Sleep\", \"Awake\", \"Deep Sleep\",\n",
    "    \"Light Sleep\", \"Deep Sleep\", \"REM\", \"REM\", \"Deep Sleep\", \"Light Sleep\",\n",
    "    \"Awake\", \"Light Sleep\", \"Deep Sleep\", \"Deep Sleep\", \"REM\", \"REM\",\n",
    "    \"Light Sleep\", \"Light Sleep\", \"REM\", \"Light Sleep\", \"Awake\", \"Light Sleep\",\n",
    "    \"Awake\", \"Awake\"\n",
    "]"
   ]
  }
 ],
 "metadata": {
  "kernelspec": {
   "display_name": "dfc-multiverse",
   "language": "python",
   "name": "python3"
  },
  "language_info": {
   "codemirror_mode": {
    "name": "ipython",
    "version": 3
   },
   "file_extension": ".py",
   "mimetype": "text/x-python",
   "name": "python",
   "nbconvert_exporter": "python",
   "pygments_lexer": "ipython3",
   "version": "3.10.0"
  },
  "widgets": {
   "application/vnd.jupyter.widget-state+json": {
    "state": {},
    "version_major": 2,
    "version_minor": 0
   }
  }
 },
 "nbformat": 4,
 "nbformat_minor": 4
}
