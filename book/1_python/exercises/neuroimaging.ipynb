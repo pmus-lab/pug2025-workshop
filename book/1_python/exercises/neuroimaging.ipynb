{
 "cells": [
  {
   "cell_type": "markdown",
   "id": "0b3c088b",
   "metadata": {},
   "source": [
    "# Neuroimaging\n",
    "\n",
    "*Note: You can download this individual file as a Jupyter Notebook (.ipynb) file by clicking the download button at the top.*"
   ]
  },
  {
   "cell_type": "markdown",
   "id": "dd3f7f79",
   "metadata": {},
   "source": [
    "## Exercise 1: Functional connectivity with nilearn\n",
    "\n",
    "1. Get fMRI and confounds data for one participant from the ADHD dataset\n",
    "2. Parcellate the fMRI image with the Schäfer 100 atlas and clean in with the corresponding confounds file\n",
    "3. Estimate functional connectivity with Pearson correlation (try the nilearn `ConnectivityMeasure` class)\n",
    "4. Plot the connectivity matrix\n",
    "\n",
    "Useful documentation pages will be:\n",
    "\n",
    "- https://nilearn.github.io/stable/modules/generated/nilearn.datasets.fetch_adhd.html\n",
    "- https://nilearn.github.io/stable/modules/generated/nilearn.datasets.fetch_atlas_schaefer_2018.html\n",
    "- https://nilearn.github.io/dev/modules/generated/nilearn.maskers.NiftiLabelsMasker.html\n",
    "- https://nilearn.github.io/stable/modules/generated/nilearn.connectome.ConnectivityMeasure.html\n",
    "- https://nilearn.github.io/stable/modules/generated/nilearn.plotting.plot_matrix.html"
   ]
  },
  {
   "cell_type": "code",
   "execution_count": null,
   "id": "2c31991d",
   "metadata": {},
   "outputs": [],
   "source": [
    "from nilearn import datasets, plotting\n",
    "from nilearn.maskers import NiftiLabelsMasker\n",
    "from nilearn.connectome import ConnectivityMeasure\n",
    "\n",
    "# 1. Load data\n",
    "adhd = ...\n",
    "func = ...\n",
    "confounds = ...\n",
    "\n",
    "# 2. Parcellate and clean\n",
    "atlas = ...\n",
    "masker = NiftiLabelsMasker(...)\n",
    "time_series = masker.fit_transform(...)\n",
    "\n",
    "# 3. Estimate functional connectivity\n",
    "conn_measure = ...\n",
    "conn_matrix  = ...\n",
    "\n",
    "# 4. Plot the connectivity matrix\n",
    "plotting.plot_matrix(...);"
   ]
  },
  {
   "cell_type": "markdown",
   "id": "159772b7",
   "metadata": {},
   "source": [
    "## Exercise 2: Plotting ERP waveforms\n",
    "\n",
    "For the EEG exercise, we will use data provided in the workshop. \n",
    "\n",
    "A template for loading data from a single participant is provided below, but you will need to modify the path accordingly. You can use it as is, but any other participant will also work. The data was already cleaned and filtered.\n",
    "\n",
    "**Goal:** Plot the condition-average ERP waveforms for condition \"S 48\" (happiness) and \"S 56\" (neutral)\n",
    "\n",
    "Please implement the following steps:\n",
    "\n",
    "1. Load the data (already implemented, only needs the correct path)\n",
    "2. Define the events\n",
    "3. Epoch \"S 48\" and \"S 56\" trials\n",
    "    - Epochs: -0.2 to 0.8 seconds after the stimulus\n",
    "    - Baseline correction: -0.2 to 0 seconds\n",
    "    - Epoch rejection: >150 μV\n",
    "4. Average the epochs for each condition (already implemented)\n",
    "5. Plot the condition-average ERP waveforms for each channel\n",
    "\n",
    "Useful documentation pages will be:\n",
    "\n",
    "- https://mne.tools/stable/generated/mne.events_from_annotations.html\n",
    "- https://mne.tools/stable/generated/mne.Epochs.html\n"
   ]
  },
  {
   "cell_type": "code",
   "execution_count": null,
   "id": "04f34078",
   "metadata": {},
   "outputs": [],
   "source": [
    "import mne\n",
    "\n",
    "# 1. Load data\n",
    "subject = \"21013\"\n",
    "fname = f\"<INSERT_PATH>/data/eeg/{subject}_E4/{subject}_E4_postICA_interpolated_fixed.set\"\n",
    "raw = mne.io.read_raw_eeglab(fname, preload=True)\n",
    "\n",
    "# 2. Define events\n",
    "event_map = {f\"S {i:2d}\": i for i in [18, 19, 28, 29, 38, 39, 48, 49, 56, 58, 68, 69, 78, 79]}\n",
    "events, event_id = mne.events_from_annotations(...)\n",
    "\n",
    "# 3. Epoch the relevant conditions\n",
    "conds = {'happiness': event_id['S 48'], 'neutral': event_id['S 56']}\n",
    "epochs = mne.Epochs(...)\n",
    "\n",
    "# 4. Compute condition-average ERP waveforms\n",
    "evokeds = {cond: epochs[cond].average() for cond in conds}\n",
    "\n",
    "# 5. Plot the ERP waveforms (butterfly + spatial coloring)\n",
    "for cond, ev in evokeds.items():\n",
    "    ev.plot(...)"
   ]
  }
 ],
 "metadata": {
  "kernelspec": {
   "display_name": "mne",
   "language": "python",
   "name": "python3"
  },
  "language_info": {
   "codemirror_mode": {
    "name": "ipython",
    "version": 3
   },
   "file_extension": ".py",
   "mimetype": "text/x-python",
   "name": "python",
   "nbconvert_exporter": "python",
   "pygments_lexer": "ipython3",
   "version": "3.11.0"
  }
 },
 "nbformat": 4,
 "nbformat_minor": 5
}
