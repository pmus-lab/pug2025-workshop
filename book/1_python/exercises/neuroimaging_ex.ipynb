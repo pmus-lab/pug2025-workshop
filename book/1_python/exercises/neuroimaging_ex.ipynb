{
 "cells": [
  {
   "cell_type": "markdown",
   "id": "0b3c088b",
   "metadata": {},
   "source": [
    "# Neuroimaging\n",
    "\n",
    "*Note: You can download this individual file as a Jupyter Notebook (.ipynb) file by clicking the download button at the top.*"
   ]
  },
  {
   "cell_type": "markdown",
   "id": "dd3f7f79",
   "metadata": {},
   "source": [
    "## Exercise 1: nilearn\n"
   ]
  },
  {
   "cell_type": "code",
   "execution_count": null,
   "id": "2c31991d",
   "metadata": {},
   "outputs": [],
   "source": []
  }
 ],
 "metadata": {
  "kernelspec": {
   "display_name": "mne",
   "language": "python",
   "name": "python3"
  },
  "language_info": {
   "codemirror_mode": {
    "name": "ipython",
    "version": 3
   },
   "file_extension": ".py",
   "mimetype": "text/x-python",
   "name": "python",
   "nbconvert_exporter": "python",
   "pygments_lexer": "ipython3",
   "version": "3.11.0"
  }
 },
 "nbformat": 4,
 "nbformat_minor": 5
}
