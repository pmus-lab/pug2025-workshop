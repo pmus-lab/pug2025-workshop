{
 "cells": [
  {
   "cell_type": "markdown",
   "metadata": {},
   "source": [
    "# Data Types and Structures"
   ]
  },
  {
   "cell_type": "markdown",
   "metadata": {},
   "source": [
    "## Exercise 1: Variables\n",
    "\n",
    "1. Assign the value `42` to a variable named `my_var` and print it.\n",
    "2. Assign the string `\"Hello, World!\"` to a variable named `greeting` and print it.\n",
    "3. Create two variables, `a` and `b`, assign them values `10` and `20`, and save their sum to a variable called `c`. Print their sum.\n",
    "4. Write a comment for (3) explaining what your \"algorithm\" does.\n"
   ]
  },
  {
   "cell_type": "code",
   "execution_count": 15,
   "metadata": {},
   "outputs": [
    {
     "name": "stdout",
     "output_type": "stream",
     "text": [
      "42\n",
      "Hello, World!\n",
      "30\n"
     ]
    }
   ],
   "source": [
    "# 1\n",
    "my_var = 42\n",
    "print(my_var)\n",
    "\n",
    "# 2\n",
    "greeting = \"Hello, World!\"\n",
    "print(greeting)\n",
    "\n",
    "# 3: Calculate the sum of a and b and store it in c\n",
    "a = 10\n",
    "b = 20\n",
    "c = a + b\n",
    "print(c)"
   ]
  },
  {
   "cell_type": "markdown",
   "metadata": {},
   "source": [
    "## Exercise 2: Types\n",
    "\n",
    "The Python built-in `type()` will return the type of the variable given to it.\n",
    "\n",
    "1. Create a variable `x` and assign it a float value. Check the type of `x` using the `type()` function.\n",
    "2. Create a variable `y` and assign it a string value. Print the type of `y` and its length using the `len()` function.\n",
    "3. Verify that a multiplication of two integers returns another int, while a division returns a float.\n",
    "4. Why do do you think that Python changes the result of a division into type float?"
   ]
  },
  {
   "cell_type": "code",
   "execution_count": 16,
   "metadata": {},
   "outputs": [
    {
     "name": "stdout",
     "output_type": "stream",
     "text": [
      "<class 'float'>\n",
      "Hello has type: <class 'str'> and length: 5\n",
      "<class 'int'>\n",
      "<class 'float'>\n"
     ]
    }
   ],
   "source": [
    "# 1\n",
    "x = 3.14\n",
    "print(type(x))\n",
    "\n",
    "# 2\n",
    "y = \"Hello\"\n",
    "print(f\"{y} has type: {type(y)} and length: {len(y)}\")\n",
    "\n",
    "# 3\n",
    "a = 1\n",
    "b = 2\n",
    "\n",
    "c = a * b\n",
    "print(type(c))\n",
    "\n",
    "d = a / b\n",
    "print(type(d))\n",
    "\n",
    "# 4\n",
    "# The multiplication of two integer number will always be an integer number\n",
    "# The division of two integer numbers can often become a float (e.g.: 1 / 2) and thus Python will always return a float"
   ]
  },
  {
   "cell_type": "markdown",
   "metadata": {},
   "source": [
    "## Exercise 3: Strings\n",
    "\n",
    "You previously learned about functions like `.lower()` or `.replace()` which allow you to modify strings. But what about counting? Lets for example take the word *Llanfairpwllgwyngyllgogerychwyrndrobwllllantysiliogogogoch*, which is a town in Wales. Can you find a function that lets you count the number of times the combination of two subsequent L's (e.g. \"ll\") appear in that word? See if you can guess how the function could be called and used. Use the internet for help if necessary.\n",
    "\n",
    "1. Count the number of time two subsequent L's occur in the town name. Save the result to a new variable and print its value.\n",
    "2. The correct answer should be 5. If your result is different, check the string to see where you might have missed something."
   ]
  },
  {
   "cell_type": "code",
   "execution_count": 17,
   "metadata": {},
   "outputs": [
    {
     "name": "stdout",
     "output_type": "stream",
     "text": [
      "The number of 'll' occurrences: 4\n",
      "The correct number of 'll' occurrences: 5\n"
     ]
    }
   ],
   "source": [
    "town = \"Llanfairpwllgwyngyllgogerychwyrndrobwllllantysiliogogogoch\"\n",
    "\n",
    "# 1. Counnt the number of \"ll\"\n",
    "ll_count = town.count(\"ll\")\n",
    "print(\"The number of 'll' occurrences:\", ll_count)\n",
    "\n",
    "# 2. Correct the count\n",
    "# The reason is tha that the first \"L\" is capitalized. If we first convert the town to lowercase, the count will be 5\n",
    "town = town.lower()\n",
    "ll_count = town.count(\"ll\")\n",
    "print(\"The correct number of 'll' occurrences:\", ll_count)"
   ]
  },
  {
   "cell_type": "markdown",
   "metadata": {},
   "source": [
    "## Exercise 4: Booleans\n",
    "\n",
    "Some integer values are equivalent to Python Boolean values. \n",
    "1. Use the equality (==) operator to find the integer which is equivalent to `True`.\n",
    "2. Use the equality (==) operator to find the integer which is equivalent to `False`."
   ]
  },
  {
   "cell_type": "code",
   "execution_count": 18,
   "metadata": {},
   "outputs": [
    {
     "name": "stdout",
     "output_type": "stream",
     "text": [
      "True\n",
      "True\n"
     ]
    }
   ],
   "source": [
    "# Exercise 4\n",
    "\n",
    "# 1. 1 is equal to True\n",
    "print(1 == True)\n",
    "\n",
    "# 2. 0 is equal to False\n",
    "print(0 == False)"
   ]
  },
  {
   "cell_type": "markdown",
   "metadata": {},
   "source": [
    "## Exercise 5: Lists\n",
    "\n",
    "\n",
    "1. Create a list named fruits containing `\"apple\"`, `\"banana\"`, and `\"cherry\"`. Add `\"orange\"` to the list and print the result.\n",
    "2. Remove `\"banana\"` from the fruits list and print the updated list.\n"
   ]
  },
  {
   "cell_type": "code",
   "execution_count": 19,
   "metadata": {},
   "outputs": [
    {
     "name": "stdout",
     "output_type": "stream",
     "text": [
      "List after adding 'orange': ['apple', 'banana', 'cherry', 'orange']\n",
      "List after removing 'banana': ['apple', 'cherry', 'orange']\n"
     ]
    }
   ],
   "source": [
    "# 1. Create a list and add \"orange\" to it\n",
    "fruits = [\"apple\", \"banana\", \"cherry\"]\n",
    "fruits.append(\"orange\")\n",
    "print(f\"List after adding 'orange': {fruits}\")\n",
    "\n",
    "# 2. Remove \"banana\" from the list\n",
    "fruits.remove(\"banana\")\n",
    "print(f\"List after removing 'banana': {fruits}\")"
   ]
  },
  {
   "cell_type": "markdown",
   "metadata": {},
   "source": [
    "## Exercise 6: More lists\n",
    "\n",
    "You previously learned about the `.append()` function for adding a new item to the end of a list. You can also add two lists together by using the plus (+) operator. Given the lists provided below, can you:\n",
    "\n",
    "1. Create a new list which combines list1 and list2?\n",
    "2. Create a new list that has the items [6, 5, 1, 2, 3] by only using indexing operations and functions associated with lists?\n",
    "\n",
    "*Hint: Lists come with more functions like `.extend()` or `.reverse()`. You can find a full list in the [Python documentation](https://docs.python.org/3/tutorial/datastructures.html#more-on-lists).*\n"
   ]
  },
  {
   "cell_type": "code",
   "execution_count": 20,
   "metadata": {},
   "outputs": [
    {
     "name": "stdout",
     "output_type": "stream",
     "text": [
      "Combined list: [1, 2, 3, 4, 5, 6]\n",
      "New list: [6, 5, 1, 2, 3]\n"
     ]
    }
   ],
   "source": [
    "list1 = [1, 2, 3]\n",
    "list2 = [4, 5, 6]\n",
    "\n",
    "# 1. Create a new list combining list1 and list2\n",
    "combined_list = list1 + list2\n",
    "print(f\"Combined list: {combined_list}\")\n",
    "\n",
    "# 2. Create a new list with [6, 5, 1, 2, 3]\n",
    "list2.reverse()\n",
    "new_list = list2[:2]\n",
    "new_list.extend(list1)\n",
    "print(f\"New list: {new_list}\")"
   ]
  },
  {
   "cell_type": "markdown",
   "metadata": {},
   "source": [
    "## Exercise 7: Indexing\n",
    "\n",
    "You previousy learned how to access specific elements of a list by enclosing an index in square brackets (`first_item = my_list[0]`). A useful feature in Python is that you can also start indexing from the back of a list by using negative numbers (`last_item = my_list[-1]`). Experiment with this for a bit and then answer/implement the following questions:\n",
    "\n",
    "1. What is the negative number index for the last item in the list?\n",
    "2. What is the negative number index for the first item in the list?\n",
    "3. Can you write code that would use a negative number to index the first item in the list,\n",
    "without advance knowledge of its length? Hint: A function introduced in the *Strings* section of the might be useful here.\n"
   ]
  },
  {
   "cell_type": "code",
   "execution_count": 21,
   "metadata": {},
   "outputs": [
    {
     "name": "stdout",
     "output_type": "stream",
     "text": [
      "Goodbye\n",
      "Hello\n",
      "Hello\n"
     ]
    }
   ],
   "source": [
    "my_list = [\"Hello\", 1, 3.14, True, 5, 1234, \"Goodbye\"]\n",
    "\n",
    "# 1\n",
    "print(my_list[-1]) # The negative index of the last element is -1\n",
    "\n",
    "# 2\n",
    "print(my_list[-7]) # It is -7 because the list has 7 elements\n",
    "\n",
    "# 3\n",
    "first_item = my_list[-len(my_list)]\n",
    "print(first_item)"
   ]
  },
  {
   "cell_type": "markdown",
   "metadata": {},
   "source": [
    "## Exercise 8: Dictionaries\n",
    "\n",
    "Below you can see a dictionary containing the price of different fruits.\n",
    " \n",
    "1. Add another fruit to the dictionary. This fruit should have several different prices associated with it, organized as a list\n",
    "2. Access the second price in this list in a single line of code and save it to a variable called `second_price`\n",
    "3. Print the newly added fruit and its the second price like so: \"The second price of <your_fruit> is <second_price> €\".\n",
    "\n",
    "*Hint: You can use the previously introduced f-strings for printing*"
   ]
  },
  {
   "cell_type": "code",
   "execution_count": 22,
   "metadata": {},
   "outputs": [
    {
     "name": "stdout",
     "output_type": "stream",
     "text": [
      "{'apple': 0.5, 'banana': 0.2, 'orange': [0.3, 0.4, 0.35]}\n",
      "The second price of orange is 0.4 €\n"
     ]
    }
   ],
   "source": [
    "fruit_prices = {\n",
    "    \"apple\": 0.5,\n",
    "    \"banana\": 0.2,\n",
    "}\n",
    "\n",
    "# 1. Add another fruit with a list of prices\n",
    "fruit_prices[\"orange\"] = [0.3, 0.4, 0.35]\n",
    "print(fruit_prices)\n",
    "\n",
    "# 2. Access the second price of \"orange\"\n",
    "second_price = fruit_prices[\"orange\"][1]\n",
    "\n",
    "# 3. Print the result using an f-string\n",
    "print(f\"The second price of orange is {second_price} €\")\n"
   ]
  },
  {
   "cell_type": "markdown",
   "metadata": {},
   "source": [
    "## Exercise 9: Conditionals\n",
    "\n",
    "Can you rewrite the code below by only using **one** *if*, **one** *elif*, and **one** `else` statement to improve readability?"
   ]
  },
  {
   "cell_type": "code",
   "execution_count": 23,
   "metadata": {},
   "outputs": [
    {
     "name": "stdout",
     "output_type": "stream",
     "text": [
      "Points are more than 10.\n"
     ]
    }
   ],
   "source": [
    "points = 12\n",
    "\n",
    "if points > 10:\n",
    "    print(\"Points are more than 10.\")\n",
    "elif points == 10:\n",
    "    print(\"Points are exactly 10.\")\n",
    "else:\n",
    "    print(\"Points are less than 10.\")"
   ]
  },
  {
   "cell_type": "markdown",
   "metadata": {},
   "source": [
    "## Exercise 10: Loops\n",
    "\n",
    "You are provided with a list of integers called `numbers`. Your task is to:\n",
    "\n",
    "1. Write a for loop which calculate the sum of all items in the list. Print the result.\n",
    "2. Again count the sum of elements, but exclude the item at index 3.\n",
    "3. Write a for loop to count how many numbers in the list are even. Print the count.\n",
    "\n",
    "*Hints:*\n",
    "- *You might find using a counting variable useful for all three exercises.*\n",
    "- *You can use the `enumerate()` function and the `!=` operator if you work with indices in a loop.*\n",
    "- *The modulo `%` operator will give you the remainder of a division. So the expression `number % 2 == 0` will be `True` if number is even (there is no remainder), or else it will be `False` (there is a remainder).*"
   ]
  },
  {
   "cell_type": "code",
   "execution_count": 24,
   "metadata": {},
   "outputs": [
    {
     "name": "stdout",
     "output_type": "stream",
     "text": [
      "The sum of all elements is 164\n",
      "The sum of all elements except the number at index 3 is 141\n",
      "The count of even numbers is 6\n"
     ]
    }
   ],
   "source": [
    "numbers = [10, 15, 8, 23, 42, 4, 16, 9, 7, 30]\n",
    "\n",
    "# 1. Sum of all elements\n",
    "total_sum = 0\n",
    "\n",
    "for num in numbers:\n",
    "    total_sum += num\n",
    "\n",
    "print(f\"The sum of all elements is {total_sum}\")\n",
    "\n",
    "# 2. Exclude item at index 3 from summation\n",
    "total_sum = 0\n",
    "\n",
    "for i, num in enumerate(numbers):\n",
    "    if i != 3:\n",
    "        total_sum += num\n",
    "\n",
    "print(f\"The sum of all elements except the number at index 3 is {total_sum}\")\n",
    "\n",
    "\n",
    "# 3. Count even numbers\n",
    "even_count = 0\n",
    "\n",
    "for num in numbers:\n",
    "    if num % 2 == 0:\n",
    "        even_count += 1\n",
    "\n",
    "print(f\"The count of even numbers is {even_count}\")"
   ]
  },
  {
   "cell_type": "markdown",
   "metadata": {},
   "source": [
    "## Voluntary Exercise 1: Lists and dictionaries combined\n",
    "\n",
    "Create a *list of dictionaries* where each dictionary represents a student. The keys should be `\"name\"`, `\"age\"`, and `\"grades\"` (a list of three integers). Then write code that prints the name of the student with the highest average grade.\n",
    "\n",
    "*Hint: You might find it helpful to use a for loop (which we will be introduced in detail in the next session)*"
   ]
  },
  {
   "cell_type": "code",
   "execution_count": 25,
   "metadata": {},
   "outputs": [
    {
     "name": "stdout",
     "output_type": "stream",
     "text": [
      "The student with the highest average grade is Alice with an average of 2.3333333333333335.\n"
     ]
    }
   ],
   "source": [
    "# List of dictionaries, each representing a student\n",
    "students = [\n",
    "    {\"name\": \"John\",  \"age\": 20, \"grades\": [1, 1, 3]},\n",
    "    {\"name\": \"Alice\", \"age\": 22, \"grades\": [2, 3, 2]},\n",
    "    {\"name\": \"Bob\",   \"age\": 21, \"grades\": [4, 1, 2]}\n",
    "]\n",
    "\n",
    "# Variable to keep track of the student with the highest average grade\n",
    "highest_avg = 0\n",
    "top_student = \"\"\n",
    "\n",
    "# Loop through each student to calculate their average grade\n",
    "for student in students:\n",
    "    average_grade = sum(student[\"grades\"]) / len(student[\"grades\"])\n",
    "    if average_grade > highest_avg:\n",
    "        highest_avg = average_grade\n",
    "        top_student = student[\"name\"]\n",
    "\n",
    "# Print the name of the student with the highest average grade\n",
    "print(f\"The student with the highest average grade is {top_student} with an average of {highest_avg}.\")\n"
   ]
  },
  {
   "cell_type": "markdown",
   "metadata": {},
   "source": [
    "## Voluntary Exercise 2: Swapping values\n",
    "\n",
    "Can you swap the values of `a` and `b` without creating a temporary (thrird) variable?"
   ]
  },
  {
   "cell_type": "code",
   "execution_count": 26,
   "metadata": {},
   "outputs": [
    {
     "name": "stdout",
     "output_type": "stream",
     "text": [
      "After swapping: a = 10, b = 5\n",
      "Swapping back:  a = 5,  b = 10\n"
     ]
    }
   ],
   "source": [
    "a = 5\n",
    "b = 10\n",
    "\n",
    "# There are multiple ways to swap the values of two variables\n",
    "# 1. You can use Python's tuple unpacking to swap the values\n",
    "a, b = b, a\n",
    "print(f\"After swapping: a = {a}, b = {b}\")\n",
    "\n",
    "# 2. You can use clever mathematics to swap values\n",
    "a = a + b\n",
    "b = a - b\n",
    "a = a - b\n",
    "print(f\"Swapping back:  a = {a},  b = {b}\")\n",
    "\n",
    "# However, most of the times it is better to use a simple and clear solution, rather than a clever one :)"
   ]
  },
  {
   "cell_type": "markdown",
   "metadata": {},
   "source": [
    "## Voluntary Exercise 3: More loops\n",
    "\n",
    "Please use a loop to iterate through the list of numbers. For each number, determine if it is prime and print whether it is prime or not."
   ]
  },
  {
   "cell_type": "code",
   "execution_count": 27,
   "metadata": {},
   "outputs": [
    {
     "name": "stdout",
     "output_type": "stream",
     "text": [
      "2 is prime.\n",
      "3 is prime.\n",
      "4 is not prime.\n",
      "5 is prime.\n",
      "10 is not prime.\n",
      "11 is prime.\n",
      "15 is not prime.\n",
      "17 is prime.\n",
      "18 is not prime.\n",
      "23 is prime.\n",
      "29 is prime.\n",
      "30 is not prime.\n"
     ]
    }
   ],
   "source": [
    "numbers = [2, 3, 4, 5, 10, 11, 15, 17, 18, 23, 29, 30]\n",
    "\n",
    "# There are many ways to achieve this. One possible solution:\n",
    "for num in numbers:\n",
    "    if num > 1:\n",
    "        is_prime = True\n",
    "        for i in range(2, num):\n",
    "            if num % i == 0:\n",
    "                is_prime = False\n",
    "                break\n",
    "        if is_prime:\n",
    "            print(f\"{num} is prime.\")\n",
    "        else:\n",
    "            print(f\"{num} is not prime.\")\n",
    "    else:\n",
    "        print(f\"{num} is not prime.\")"
   ]
  }
 ],
 "metadata": {
  "kernelspec": {
   "display_name": "dfc-multiverse",
   "language": "python",
   "name": "python3"
  },
  "language_info": {
   "codemirror_mode": {
    "name": "ipython",
    "version": 3
   },
   "file_extension": ".py",
   "mimetype": "text/x-python",
   "name": "python",
   "nbconvert_exporter": "python",
   "pygments_lexer": "ipython3",
   "version": "3.10.0"
  },
  "widgets": {
   "application/vnd.jupyter.widget-state+json": {
    "state": {},
    "version_major": 2,
    "version_minor": 0
   }
  }
 },
 "nbformat": 4,
 "nbformat_minor": 4
}
