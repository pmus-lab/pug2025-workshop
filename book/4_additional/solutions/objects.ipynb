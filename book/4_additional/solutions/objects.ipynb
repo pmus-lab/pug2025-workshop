{
 "cells": [
  {
   "cell_type": "markdown",
   "metadata": {},
   "source": [
    "# Functions and Objects"
   ]
  },
  {
   "cell_type": "markdown",
   "metadata": {},
   "source": [
    "## Exercise 1: Dot notation and basic methods\n",
    "\n",
    "Use at least two methods (e.g., `.append()`, `.sort()`) on the provided list. Print the list before and after using the methods."
   ]
  },
  {
   "cell_type": "code",
   "execution_count": 25,
   "metadata": {},
   "outputs": [
    {
     "name": "stdout",
     "output_type": "stream",
     "text": [
      "My list: [3, 1, 4, 6, 1, 7]\n",
      "After sorting: [1, 1, 3, 4, 6, 7]\n",
      "After appending 4: [1, 1, 3, 4, 6, 7, 9]\n"
     ]
    }
   ],
   "source": [
    "my_list = [3,1,4,6,1,7]\n",
    "print(\"My list:\", my_list)\n",
    "\n",
    "my_list.sort()\n",
    "print(\"After sorting:\", my_list)\n",
    "\n",
    "my_list.append(9)\n",
    "print(\"After appending 4:\", my_list)"
   ]
  },
  {
   "cell_type": "markdown",
   "metadata": {},
   "source": [
    "## Exercise 2: Everything is an object\n",
    "\n",
    "All data types and structures (like integers or lists) in Python are objects.\n",
    "\n",
    "- Print all methods associated with the previously created list.\n",
    "- Are the methods different from the methods associated with dictionaries?"
   ]
  },
  {
   "cell_type": "code",
   "execution_count": 26,
   "metadata": {},
   "outputs": [
    {
     "name": "stdout",
     "output_type": "stream",
     "text": [
      "['__add__', '__class__', '__class_getitem__', '__contains__', '__delattr__', '__delitem__', '__dir__', '__doc__', '__eq__', '__format__', '__ge__', '__getattribute__', '__getitem__', '__getstate__', '__gt__', '__hash__', '__iadd__', '__imul__', '__init__', '__init_subclass__', '__iter__', '__le__', '__len__', '__lt__', '__mul__', '__ne__', '__new__', '__reduce__', '__reduce_ex__', '__repr__', '__reversed__', '__rmul__', '__setattr__', '__setitem__', '__sizeof__', '__str__', '__subclasshook__', 'append', 'clear', 'copy', 'count', 'extend', 'index', 'insert', 'pop', 'remove', 'reverse', 'sort']\n",
      "['__class__', '__class_getitem__', '__contains__', '__delattr__', '__delitem__', '__dir__', '__doc__', '__eq__', '__format__', '__ge__', '__getattribute__', '__getitem__', '__getstate__', '__gt__', '__hash__', '__init__', '__init_subclass__', '__ior__', '__iter__', '__le__', '__len__', '__lt__', '__ne__', '__new__', '__or__', '__reduce__', '__reduce_ex__', '__repr__', '__reversed__', '__ror__', '__setattr__', '__setitem__', '__sizeof__', '__str__', '__subclasshook__', 'clear', 'copy', 'fromkeys', 'get', 'items', 'keys', 'pop', 'popitem', 'setdefault', 'update', 'values']\n"
     ]
    }
   ],
   "source": [
    "print(dir(my_list))\n",
    "\n",
    "my_dict = {}\n",
    "print(dir(my_dict))"
   ]
  },
  {
   "cell_type": "markdown",
   "metadata": {},
   "source": [
    "## Exercise 3: Modules and imports\n",
    "\n",
    "Python has a small built-in namespace, which means there is only a limited amount of functions available by default. To access a wide range of functions and tools, we thus need to import additional modules and libraries. Please do the following:\n",
    "\n",
    "1. Importing Entire Modules:\n",
    "    - Import the entire `math` module.\n",
    "    - Calculate and print the natural logarithm of 20.\n",
    "\n",
    "2. Importing Specific Functions:\n",
    "    - Import only the `pow` function from the `math` module.\n",
    "    - Calculate and print 2 raised to the power of 3 ($2^3$).\n",
    "\n",
    "3. Using Aliases for Modules:\n",
    "    - Import the `numpy` module using the alias `np`.\n",
    "    - Create a numpy array with the values [1, 4, 9, 16, 25].\n",
    "    - Calculate and print the square root of each element in the array using the numpy module.\n",
    "\n",
    "*Hint:* The numpy module is the fundamental Python package for scientific computing in Python. It uses arrays to store data. Please refer to the [documentation](https://numpy.org/doc/stable/reference/generated/numpy.array.html) for the third question. Do not worry about the details, we will discuss this package in more detail next week. "
   ]
  },
  {
   "cell_type": "code",
   "execution_count": 27,
   "metadata": {},
   "outputs": [
    {
     "name": "stdout",
     "output_type": "stream",
     "text": [
      "The natural logarithm of 20 is: 2.995732273553991\n",
      "2 raised to the power of 3 is: 8.0\n",
      "The square root of each element in the array is: [1. 2. 3. 4. 5.]\n"
     ]
    }
   ],
   "source": [
    "# 1. Import module\n",
    "import math\n",
    "\n",
    "log_value = math.log(20)\n",
    "print(f\"The natural logarithm of 20 is: {log_value}\")\n",
    "\n",
    "# 2. Import specific function\n",
    "from math import pow\n",
    "\n",
    "power_value = pow(2, 3)\n",
    "print(f\"2 raised to the power of 3 is: {power_value}\")\n",
    "\n",
    "# 3. Using alias for module\n",
    "import numpy as np\n",
    "\n",
    "array = np.array([1, 4, 9, 16, 25])\n",
    "sqrt_values = np.sqrt(array)\n",
    "print(f\"The square root of each element in the array is: {sqrt_values}\")"
   ]
  },
  {
   "cell_type": "markdown",
   "metadata": {},
   "source": [
    "## Exercise 4: Functions\n",
    "\n",
    "Write a function `classify_reaction_time(rt)` that classifies a given reaction time (in ms) of a psychological experiment and returns the result as a string:\n",
    "\n",
    "- Below 400 ms: \"Fast Response\"\n",
    "- Between 400 ms and 600 ms: \"Normal Response\"\n",
    "- Above 600 ms: \"Slow Response\"\n",
    "- Use flow control statements (if, elif, else) to handle the classification.\n",
    "\n",
    "Test the function by passing three different response times (fast, normal, slow) to it and printing the result"
   ]
  },
  {
   "cell_type": "code",
   "execution_count": 28,
   "metadata": {},
   "outputs": [
    {
     "name": "stdout",
     "output_type": "stream",
     "text": [
      "Response Time: 350 ms - Classification: Fast Response\n",
      "Response Time: 450 ms - Classification: Normal Response\n",
      "Response Time: 700 ms - Classification: Slow Response\n"
     ]
    }
   ],
   "source": [
    "# Function to classify reaction time\n",
    "def classify_reaction_time(rt):\n",
    "    if rt < 400:\n",
    "        return \"Fast Response\"\n",
    "    elif 400 <= rt <= 600:\n",
    "        return \"Normal Response\"\n",
    "    else:\n",
    "        return \"Slow Response\"\n",
    "\n",
    "# Testing the function with different response times\n",
    "response_times = [350, 450, 700]\n",
    "for rt in response_times:\n",
    "    result = classify_reaction_time(rt)\n",
    "    print(f\"Response Time: {rt} ms - Classification: {result}\")\n"
   ]
  },
  {
   "cell_type": "markdown",
   "metadata": {},
   "source": [
    "## Exercise 5: More functions\n",
    "\n",
    "1. Create a function that takes in the radius of a circle and returns its area.\n",
    "2. Run the function by providing a radius and print the resulting area."
   ]
  },
  {
   "cell_type": "code",
   "execution_count": 29,
   "metadata": {},
   "outputs": [
    {
     "name": "stdout",
     "output_type": "stream",
     "text": [
      "The area of a circle with radius 5 is 78.53981633974483\n"
     ]
    }
   ],
   "source": [
    "def calculate_area(radius):\n",
    "    return math.pi * radius ** 2\n",
    "\n",
    "# Test the function with a radius of 5\n",
    "radius = 5\n",
    "area = calculate_area(radius)\n",
    "print(f\"The area of a circle with radius {radius} is {area}\")"
   ]
  },
  {
   "cell_type": "markdown",
   "metadata": {},
   "source": [
    "## Exercise 6: Classes\n",
    "\n",
    "Functions are nice if you need to perform a specific, isolated computation. However, sometimes it is uesful to create encapsulate objects that have different properties (attributes) and actions (methods). For example, look at the provided code snippet. \n",
    "\n",
    "An instance of `Circle` is created by providing a radius: `my_circle = Circle(radius=5)`. This radius is then assigned to the `self.radius` attribute of the class. The only method in the class is the `calculate_area()` method that (if called) calculates the area of the circle, assigns it to a newly created `self.area` attribute.\n",
    "\n",
    "Please do the following:\n",
    "\n",
    "1. In `Circle`, implement a second method that calculates the circumference of the circle. Calculate and ürint the circumference.\n",
    "2. Implement a new class called `Square` that has a single attribute `.side`, and two methods for area and circumference. Calculate and print both."
   ]
  },
  {
   "cell_type": "code",
   "execution_count": 30,
   "metadata": {},
   "outputs": [
    {
     "name": "stdout",
     "output_type": "stream",
     "text": [
      "The area of the circle is: : 78.53981633974483\n",
      "The circumference of the circle is: 31.41592653589793\n",
      "The area of the square is: : 25\n",
      "The circumference of the square is: 20\n"
     ]
    }
   ],
   "source": [
    "from math import pi\n",
    "\n",
    "class Circle:\n",
    "  def __init__(self, radius):\n",
    "    self.radius = radius\n",
    "\n",
    "  def calculate_area(self):\n",
    "    self.area = pi * self.radius**2\n",
    "\n",
    "  def calculate_circumference(self):\n",
    "    self.circumference = 2 * pi * self.radius\n",
    "\n",
    "# Create an instance of the Circle class and calculate the area and circumference\n",
    "my_circle = Circle(radius=5)\n",
    "my_circle.calculate_area()\n",
    "my_circle.calculate_circumference()\n",
    "\n",
    "print(f\"The area of the circle is: : {my_circle.area}\")\n",
    "print(f\"The circumference of the circle is: {my_circle.circumference}\")\n",
    "\n",
    "\n",
    "class Square:\n",
    "  def __init__(self, side):\n",
    "    self.side = side\n",
    "\n",
    "  def calculate_area(self):\n",
    "    self.area = self.side**2\n",
    "\n",
    "  def calculate_circumference(self):\n",
    "    self.circumference = 4 * self.side\n",
    "\n",
    "# Create an instance of the Square class and calculate the area and circumference\n",
    "my_square = Square(side=5)\n",
    "my_square.calculate_area()\n",
    "my_square.calculate_circumference()\n",
    "\n",
    "print(f\"The area of the square is: : {my_square.area}\")\n",
    "print(f\"The circumference of the square is: {my_square.circumference}\")"
   ]
  },
  {
   "cell_type": "markdown",
   "metadata": {},
   "source": [
    "## Voluntary Exercise 1: Nested functions\n",
    "\n",
    "In this exercise, you will create functions that simulate a participant's decision-making process during a psychological experiment. The goal is to reinforce defining and using functions, handling parameters, and using control flow.\n",
    "\n",
    "1. Creating a Decision Function\n",
    "\n",
    "    - Write a function `make_decision(response_time, threshold)` that takes two arguments:\n",
    "        - `response_time`: The time (in milliseconds) it takes for the participant to make a decision (an integer).\n",
    "        - `threshold`: The decision threshold (an integer).\n",
    "    - The function should:\n",
    "        - Print \"Decision Made!\" if `response_time` is less than or equal to the threshold.\n",
    "        - Print \"Too Slow! No Decision.\" if `response_time` is greater than the threshold.\n",
    "\n",
    "2. Simulating a Reaction Time Task\n",
    "\n",
    "    - Create a function `simulate_reaction_task(mean_rt, variability)` that simulates a participant's response time:\n",
    "        - `mean_rt`: The average response time (an integer).\n",
    "        - `variability`: The maximum amount by which the response time can vary (an integer).\n",
    "    - The function should:\n",
    "        - Use a random number generator (from the `random` module) to create a response time by adding a random value (between `-variability` and `+variability`) to `mean_rt`.\n",
    "        - Return the generated `response_time`.\n",
    "\n",
    "3. Running the Simulation\n",
    "\n",
    "    - Create a main function `run_experiment()` that:\n",
    "        - Sets a `mean_rt` of 500 ms and a variability of 100 ms.\n",
    "        - Sets a `threshold` of 550 ms.\n",
    "        - Calls `simulate_reaction_task()` three times to generate three different response times.\n",
    "        - Calls `make_decision()` for each response time to determine if a decision was made.\n",
    "        - Prints the response times and the decision outcomes."
   ]
  },
  {
   "cell_type": "code",
   "execution_count": 31,
   "metadata": {},
   "outputs": [
    {
     "name": "stdout",
     "output_type": "stream",
     "text": [
      "Response Time 1: 579 ms\n",
      "Too Slow! No Decision.\n",
      "Response Time 2: 548 ms\n",
      "Decision Made!\n",
      "Response Time 3: 545 ms\n",
      "Decision Made!\n"
     ]
    }
   ],
   "source": [
    "import random\n",
    "\n",
    "# 1. Creating the decision function\n",
    "def make_decision(response_time, threshold):\n",
    "    if response_time <= threshold:\n",
    "        print(\"Decision Made!\")\n",
    "    else:\n",
    "        print(\"Too Slow! No Decision.\")\n",
    "\n",
    "# 2. Simulating a reaction time task\n",
    "def simulate_reaction_task(mean_rt, variability):\n",
    "    response_time = mean_rt + random.randint(-variability, variability)\n",
    "    return response_time\n",
    "\n",
    "# 3. Running the simulation\n",
    "def run_experiment():\n",
    "    mean_rt = 500\n",
    "    variability = 100\n",
    "    threshold = 550\n",
    "    \n",
    "    # Generate three simulated response times and make decisions\n",
    "    for i in range(3):\n",
    "        response_time = simulate_reaction_task(mean_rt, variability)\n",
    "        print(f\"Response Time {i+1}: {response_time} ms\")\n",
    "        make_decision(response_time, threshold)\n",
    "\n",
    "# Run the experiment\n",
    "run_experiment()"
   ]
  },
  {
   "cell_type": "markdown",
   "metadata": {},
   "source": [
    "## Voluntrary Exercise 2: Classes and inheritance\n",
    "\n",
    "In this exercise, you will create a class that simulates a simple neuron. The neuron will allow energy deposits (representing excitatory input), energy reductions (representing inhibitory input), and checking its activation level.\n",
    "\n",
    "1. Create the class\n",
    "    - Write a class `Neuron` with the following attributes:\n",
    "        - `neuron_name`: The name of the neuron (e.g., \"Neuron A\").\n",
    "        - `activation_level`: The current activation level (default is 0).\n",
    "    - Implement the following methods:\n",
    "        - `excite(amount)`: Adds amount to the activation_level (representing excitatory input).\n",
    "        - `inhibit(amount)`: Subtracts amount from the activation_level (representing inhibitory input). If the activation level becomes negative, set it to 0 and print a message indicating that the neuron has reached its inhibitory limit.\n",
    "        - `check_activation()`: Prints the current activation level.\n",
    "\n",
    "2. Test the class\n",
    "    - Create an instance of `Neuron` for a neuron named \"Neuron A\" with an initial activation level of 20. Apply an excitatory input of 30, then apply an inhibitory input of 70. Print the final activation level."
   ]
  },
  {
   "cell_type": "code",
   "execution_count": 32,
   "metadata": {},
   "outputs": [
    {
     "name": "stdout",
     "output_type": "stream",
     "text": [
      "Neuron A excited by 30. New activation level: 50\n",
      "Neuron A reached inhibitory limit. Activation level set to 0.\n",
      "Neuron A's current activation level: 0\n"
     ]
    }
   ],
   "source": [
    "# 1. Creating the class\n",
    "class Neuron:\n",
    "    def __init__(self, neuron_name, activation_level=0):\n",
    "        self.neuron_name = neuron_name\n",
    "        self.activation_level = activation_level\n",
    "\n",
    "    def excite(self, amount):\n",
    "        self.activation_level += amount\n",
    "        print(f\"{self.neuron_name} excited by {amount}. New activation level: {self.activation_level}\")\n",
    "\n",
    "    def inhibit(self, amount):\n",
    "        self.activation_level -= amount\n",
    "        if self.activation_level < 0:\n",
    "            self.activation_level = 0\n",
    "            print(f\"{self.neuron_name} reached inhibitory limit. Activation level set to 0.\")\n",
    "        else:\n",
    "            print(f\"{self.neuron_name} inhibited by {amount}. New activation level: {self.activation_level}\")\n",
    "\n",
    "    def check_activation(self):\n",
    "        print(f\"{self.neuron_name}'s current activation level: {self.activation_level}\")\n",
    "\n",
    "# 2. Testing the class\n",
    "neuron_a = Neuron(\"Neuron A\", activation_level=20)\n",
    "neuron_a.excite(30)\n",
    "neuron_a.inhibit(70)\n",
    "neuron_a.check_activation()"
   ]
  },
  {
   "cell_type": "markdown",
   "metadata": {},
   "source": [
    "In object oriented programming, classes can inherit attributes or methods from an existing class (base or parent class). This allows the subclass to reuse and extend the functionality of the parent class, adding its own specialized behavior. Have a look at an [online tutorial](https://www.w3schools.com/python/python_inheritance.asp) to figure out how this can be implemented.\n",
    "\n",
    "1. Create a subclass `InhibitoryNeuron` that inherits from Neuron.\n",
    "    - Override the `inhibit(amount)` method such that it adds an additional 10% inhibition (e.g., if 50 is passed as the amount, it should inhibit by 55).\n",
    "\n",
    "2. Test the `InhibitoryNeuron` class by creating an instance, applying excitation and inhibition, and checking the activation level."
   ]
  },
  {
   "cell_type": "code",
   "execution_count": 33,
   "metadata": {},
   "outputs": [
    {
     "name": "stdout",
     "output_type": "stream",
     "text": [
      "Inhibitory Neuron B excited by 20. New activation level: 70\n",
      "Inhibitory Neuron B inhibited by 33.0. New activation level: 37.0\n",
      "Inhibitory Neuron B's current activation level: 37.0\n"
     ]
    }
   ],
   "source": [
    "class InhibitoryNeuron(Neuron):\n",
    "    def inhibit(self, amount):\n",
    "        # Apply additional 10% inhibition\n",
    "        adjusted_amount = amount * 1.1\n",
    "        super().inhibit(adjusted_amount)\n",
    "\n",
    "# Test the class\n",
    "inhibitory_neuron = InhibitoryNeuron(\"Inhibitory Neuron B\", activation_level=50)\n",
    "inhibitory_neuron.excite(20)\n",
    "inhibitory_neuron.inhibit(30)\n",
    "inhibitory_neuron.check_activation()"
   ]
  },
  {
   "cell_type": "markdown",
   "metadata": {},
   "source": [
    "## Voluntary Exercise 3: List comprehensions\n",
    "\n",
    "You learned about nested statements in previous sessions. Please carefully read the following code. What is its purpose?"
   ]
  },
  {
   "cell_type": "code",
   "execution_count": 34,
   "metadata": {},
   "outputs": [
    {
     "name": "stdout",
     "output_type": "stream",
     "text": [
      "Only the string values: ['banana', 'apple', 'hello']\n"
     ]
    }
   ],
   "source": [
    "random_stuff = [1, \"banana\", \"apple\", 3.14, 7, \"hello\"]\n",
    "strings_only = [] # empty list for filtered vaues\n",
    "\n",
    "# Loop through the list\n",
    "for elem in random_stuff:\n",
    "    # if the current element is a string...\n",
    "    if isinstance(elem, str):\n",
    "        # ...then append the value to strings_only\n",
    "        strings_only.append(elem)\n",
    "\n",
    "print(f\"Only the string values: {strings_only}\")"
   ]
  },
  {
   "cell_type": "markdown",
   "metadata": {},
   "source": [
    "Python offers a feature called *list comprehension*. This allows you to write for-loops in a more compact way. List comprehensions are *syntactic sugar*, which means they do not add any additional features and are just a way of making the code a bit shorter (and maybe even nicer to read once you get used to them). Take a look at the following example which prints the elements of the `random_stuff` list:"
   ]
  },
  {
   "cell_type": "code",
   "execution_count": 35,
   "metadata": {},
   "outputs": [
    {
     "name": "stdout",
     "output_type": "stream",
     "text": [
      "1\n",
      "banana\n",
      "apple\n",
      "3.14\n",
      "7\n",
      "hello\n"
     ]
    }
   ],
   "source": [
    "p = [print(elem) for elem in random_stuff]"
   ]
  },
  {
   "cell_type": "markdown",
   "metadata": {},
   "source": [
    "Can you implement the previous code block that filters the strings from the list by using a single list comprehension?"
   ]
  },
  {
   "cell_type": "code",
   "execution_count": 36,
   "metadata": {},
   "outputs": [
    {
     "name": "stdout",
     "output_type": "stream",
     "text": [
      "Only the string values: ['banana', 'apple', 'hello']\n"
     ]
    }
   ],
   "source": [
    "strings_only = [elem for elem in random_stuff if isinstance(elem, str)]\n",
    "print(f\"Only the string values: {strings_only}\")"
   ]
  }
 ],
 "metadata": {
  "kernelspec": {
   "display_name": "Python 3",
   "language": "python",
   "name": "python3"
  },
  "language_info": {
   "codemirror_mode": {
    "name": "ipython",
    "version": 3
   },
   "file_extension": ".py",
   "mimetype": "text/x-python",
   "name": "python",
   "nbconvert_exporter": "python",
   "pygments_lexer": "ipython3",
   "version": "3.11.10"
  }
 },
 "nbformat": 4,
 "nbformat_minor": 2
}
