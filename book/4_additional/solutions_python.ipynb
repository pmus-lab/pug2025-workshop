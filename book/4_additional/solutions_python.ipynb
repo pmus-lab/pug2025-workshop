{
 "cells": [
  {
   "cell_type": "markdown",
   "id": "33a7574a",
   "metadata": {},
   "source": [
    "# Python Solutions"
   ]
  },
  {
   "cell_type": "code",
   "execution_count": null,
   "id": "0c9dc842",
   "metadata": {},
   "outputs": [],
   "source": []
  }
 ],
 "metadata": {
  "language_info": {
   "name": "python"
  }
 },
 "nbformat": 4,
 "nbformat_minor": 5
}
